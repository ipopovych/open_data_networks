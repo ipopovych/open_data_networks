{
 "cells": [
  {
   "cell_type": "code",
   "execution_count": 1,
   "metadata": {},
   "outputs": [],
   "source": [
    "import pandas as pd\n",
    "import numpy as np\n",
    "import json\n",
    "\n",
    "from bz2file import open as bzopen\n",
    "\n",
    "import pprint"
   ]
  },
  {
   "cell_type": "markdown",
   "metadata": {},
   "source": [
    "# Data preparation"
   ]
  },
  {
   "cell_type": "markdown",
   "metadata": {},
   "source": [
    "## Load the csv data files"
   ]
  },
  {
   "cell_type": "code",
   "execution_count": 2,
   "metadata": {},
   "outputs": [
    {
     "name": "stdout",
     "output_type": "stream",
     "text": [
      "loading resulting data sets from csv files\n"
     ]
    },
    {
     "name": "stderr",
     "output_type": "stream",
     "text": [
      "c:\\users\\iryna.popovych\\appdata\\local\\programs\\python\\python39\\lib\\site-packages\\IPython\\core\\interactiveshell.py:3146: DtypeWarning: Columns (16) have mixed types.Specify dtype option on import or set low_memory=False.\n",
      "  has_raised = await self.run_ast_nodes(code_ast.body, cell_name,\n"
     ]
    },
    {
     "name": "stdout",
     "output_type": "stream",
     "text": [
      "46302\n",
      "17526\n",
      "113052\n"
     ]
    }
   ],
   "source": [
    "print(\"loading resulting data sets from csv files\")\n",
    "\n",
    "cdf = pd.read_csv('company_df.csv',\n",
    "                  parse_dates = ['created_datetime'],\n",
    "                  dtype={'index': np.int32,\n",
    "                         'year': np.int32,\n",
    "                         'company_ua': np.bool\n",
    "                        })\n",
    "\n",
    "odf = pd.read_csv('organization_df.csv',\n",
    "                  parse_dates = ['created_datetime'],\n",
    "                  dtype={'index': np.int32,\n",
    "                         'year': np.int32,\n",
    "                         'company_ua': np.bool\n",
    "                        })\n",
    "\n",
    "cmap = pd.read_csv('company_map.csv', \n",
    "                   dtype={'company_ua': np.bool, 'counts': np.int32})\n",
    "cmap.rename(columns={'company_name':'uni_company_name'}, inplace=True)\n",
    "\n",
    "omap = pd.read_csv('organization_map.csv', \n",
    "                   dtype={'company_ua': np.bool, 'counts': np.int32})\n",
    "omap.rename(columns={'org_name':'uni_org_name'}, inplace=True)\n",
    "\n",
    "print(len(set(cmap.company_id)))\n",
    "print(len(set(omap.org_id)))\n",
    "print(len(set(list(set(cdf.id)) + list(set(odf.id)))))"
   ]
  },
  {
   "cell_type": "code",
   "execution_count": 3,
   "metadata": {},
   "outputs": [],
   "source": [
    "def shorten_name(full_name):\n",
    "    namelist = full_name.split()\n",
    "    surname = namelist[0] + ' '\n",
    "    name1 = namelist[1][:1] + '. '\n",
    "    if len(namelist) == 3:\n",
    "        name2 = namelist[2][:1] + '.'\n",
    "    else:\n",
    "        name2 = ''\n",
    "    \n",
    "    return surname + name1 + name2 \n",
    "\n",
    "\n",
    "def extract_city(city_full, entity):\n",
    "\n",
    "    citylist = city_full.split('/')\n",
    "    citylist_length = len(citylist)\n",
    "    \n",
    "    if citylist_length == 4:\n",
    "        city = citylist[0]\n",
    "        rayon = citylist[1]\n",
    "        oblast = citylist[2]\n",
    "        country = citylist[3]\n",
    "        \n",
    "    elif citylist_length == 3:\n",
    "        city = citylist[0]\n",
    "        rayon = citylist[0]\n",
    "        oblast = citylist[1]\n",
    "        country = citylist[2]\n",
    "    \n",
    "    elif citylist_length == 2:\n",
    "        city = citylist[0]\n",
    "        rayon = citylist[0]\n",
    "        oblast = citylist[0]\n",
    "        country = citylist[1]\n",
    "        \n",
    "    else: \n",
    "        city = citylist[0]\n",
    "        rayon = citylist[0]\n",
    "        oblast = citylist[0]\n",
    "        country = citylist[0]\n",
    "\n",
    "    if entity == 'city':\n",
    "        return city\n",
    "    elif entity == 'rayon':\n",
    "        return rayon\n",
    "    elif entity == 'oblast':\n",
    "        return oblast\n",
    "    elif entity == 'country':\n",
    "        return country\n",
    "    \n",
    "    return 'wrong entity argument'"
   ]
  },
  {
   "cell_type": "code",
   "execution_count": 4,
   "metadata": {},
   "outputs": [],
   "source": [
    "odf = odf[odf.org_id != 0]"
   ]
  },
  {
   "cell_type": "code",
   "execution_count": 5,
   "metadata": {},
   "outputs": [],
   "source": [
    "cdf['decl_shortname'] = cdf.full_name.apply(lambda x: shorten_name(x))\n",
    "odf['decl_shortname'] = odf.full_name.apply(lambda x: shorten_name(x))\n",
    "\n",
    "cdf['surname'] = cdf.full_name.apply(lambda x: x.split()[0])\n",
    "odf['surname'] = odf.full_name.apply(lambda x: x.split()[0])"
   ]
  },
  {
   "cell_type": "code",
   "execution_count": 6,
   "metadata": {},
   "outputs": [],
   "source": [
    "# add descriptive field about declarant\n",
    "cdf['decl_info'] = cdf.full_name + '\\n' + cdf.position + '\\n' + cdf.office\n",
    "odf['decl_info'] = odf.full_name + '\\n' + odf.position + '\\n' + odf.office\n",
    "\n",
    "cdf = cdf.merge(cmap[['company_id', \"uni_company_name\", \"counts\"]], how='left', on='company_id')\n",
    "odf = odf.merge(omap[['org_id', \"uni_org_name\", \"counts\"]], how='left', on='org_id')"
   ]
  },
  {
   "cell_type": "code",
   "execution_count": 7,
   "metadata": {},
   "outputs": [],
   "source": [
    "cdf['city'] = cdf.city_type.apply(lambda x: extract_city(x, 'city'))\n",
    "cdf['rayon'] = cdf.city_type.apply(lambda x: extract_city(x, 'rayon'))\n",
    "cdf['oblast'] = cdf.city_type.apply(lambda x: extract_city(x, 'oblast'))\n",
    "cdf['country'] = cdf.city_type.apply(lambda x: extract_city(x, 'country'))\n",
    "\n",
    "odf['city'] = odf.city_type.apply(lambda x: extract_city(x, 'city'))\n",
    "odf['rayon'] = odf.city_type.apply(lambda x: extract_city(x, 'rayon'))\n",
    "odf['oblast'] = odf.city_type.apply(lambda x: extract_city(x, 'oblast'))\n",
    "odf['country'] = odf.city_type.apply(lambda x: extract_city(x, 'country'))"
   ]
  },
  {
   "cell_type": "markdown",
   "metadata": {},
   "source": [
    "## Build a Parliament mapper for the data"
   ]
  },
  {
   "cell_type": "code",
   "execution_count": 8,
   "metadata": {},
   "outputs": [
    {
     "data": {
      "text/html": [
       "<div>\n",
       "<style scoped>\n",
       "    .dataframe tbody tr th:only-of-type {\n",
       "        vertical-align: middle;\n",
       "    }\n",
       "\n",
       "    .dataframe tbody tr th {\n",
       "        vertical-align: top;\n",
       "    }\n",
       "\n",
       "    .dataframe thead th {\n",
       "        text-align: right;\n",
       "    }\n",
       "</style>\n",
       "<table border=\"1\" class=\"dataframe\">\n",
       "  <thead>\n",
       "    <tr style=\"text-align: right;\">\n",
       "      <th></th>\n",
       "      <th>Партія</th>\n",
       "      <th>Особа</th>\n",
       "      <th>№ у списку</th>\n",
       "      <th>№ округу</th>\n",
       "    </tr>\n",
       "  </thead>\n",
       "  <tbody>\n",
       "    <tr>\n",
       "      <th>0</th>\n",
       "      <td>Слуга народу</td>\n",
       "      <td>Пашковський Максим Ігорович</td>\n",
       "      <td>NaN</td>\n",
       "      <td>11.0</td>\n",
       "    </tr>\n",
       "    <tr>\n",
       "      <th>1</th>\n",
       "      <td>Слуга народу</td>\n",
       "      <td>Драбовський Анатолій Григорович</td>\n",
       "      <td>NaN</td>\n",
       "      <td>12.0</td>\n",
       "    </tr>\n",
       "    <tr>\n",
       "      <th>2</th>\n",
       "      <td>Самовисування</td>\n",
       "      <td>Юрчишин Петро Васильович</td>\n",
       "      <td>NaN</td>\n",
       "      <td>13.0</td>\n",
       "    </tr>\n",
       "    <tr>\n",
       "      <th>3</th>\n",
       "      <td>Слуга народу</td>\n",
       "      <td>Борзова Ірина Наумівна</td>\n",
       "      <td>NaN</td>\n",
       "      <td>14.0</td>\n",
       "    </tr>\n",
       "    <tr>\n",
       "      <th>4</th>\n",
       "      <td>Самовисування</td>\n",
       "      <td>Білозір Лариса Миколаївна</td>\n",
       "      <td>NaN</td>\n",
       "      <td>15.0</td>\n",
       "    </tr>\n",
       "  </tbody>\n",
       "</table>\n",
       "</div>"
      ],
      "text/plain": [
       "          Партія                            Особа  № у списку  № округу\n",
       "0   Слуга народу      Пашковський Максим Ігорович         NaN      11.0\n",
       "1   Слуга народу  Драбовський Анатолій Григорович         NaN      12.0\n",
       "2  Самовисування         Юрчишин Петро Васильович         NaN      13.0\n",
       "3   Слуга народу           Борзова Ірина Наумівна         NaN      14.0\n",
       "4  Самовисування        Білозір Лариса Миколаївна         NaN      15.0"
      ]
     },
     "execution_count": 8,
     "metadata": {},
     "output_type": "execute_result"
    }
   ],
   "source": [
    "# load information about political party of the politician\n",
    "party_dict = pd.read_csv('political_party_info.csv')\n",
    "party_dict = party_dict[party_dict['Особа'].notna()]\n",
    "\n",
    "party_dict.head()"
   ]
  },
  {
   "cell_type": "code",
   "execution_count": 9,
   "metadata": {},
   "outputs": [
    {
     "data": {
      "text/html": [
       "<div>\n",
       "<style scoped>\n",
       "    .dataframe tbody tr th:only-of-type {\n",
       "        vertical-align: middle;\n",
       "    }\n",
       "\n",
       "    .dataframe tbody tr th {\n",
       "        vertical-align: top;\n",
       "    }\n",
       "\n",
       "    .dataframe thead th {\n",
       "        text-align: right;\n",
       "    }\n",
       "</style>\n",
       "<table border=\"1\" class=\"dataframe\">\n",
       "  <thead>\n",
       "    <tr style=\"text-align: right;\">\n",
       "      <th></th>\n",
       "      <th>Особа</th>\n",
       "    </tr>\n",
       "    <tr>\n",
       "      <th>Партія</th>\n",
       "      <th></th>\n",
       "    </tr>\n",
       "  </thead>\n",
       "  <tbody>\n",
       "    <tr>\n",
       "      <th>ЄС</th>\n",
       "      <td>26</td>\n",
       "    </tr>\n",
       "    <tr>\n",
       "      <th>Єдиний центр</th>\n",
       "      <td>1</td>\n",
       "    </tr>\n",
       "    <tr>\n",
       "      <th>Біла Церква разом</th>\n",
       "      <td>1</td>\n",
       "    </tr>\n",
       "    <tr>\n",
       "      <th>ВО «Батьківщина»</th>\n",
       "      <td>27</td>\n",
       "    </tr>\n",
       "    <tr>\n",
       "      <th>ВО «Свобода»</th>\n",
       "      <td>1</td>\n",
       "    </tr>\n",
       "    <tr>\n",
       "      <th>Голос</th>\n",
       "      <td>21</td>\n",
       "    </tr>\n",
       "    <tr>\n",
       "      <th>Об'єднання «Самопоміч»</th>\n",
       "      <td>1</td>\n",
       "    </tr>\n",
       "    <tr>\n",
       "      <th>Опозиційна платформа — За життя</th>\n",
       "      <td>43</td>\n",
       "    </tr>\n",
       "    <tr>\n",
       "      <th>Опозиційний блок</th>\n",
       "      <td>6</td>\n",
       "    </tr>\n",
       "    <tr>\n",
       "      <th>Порядок</th>\n",
       "      <td>1</td>\n",
       "    </tr>\n",
       "    <tr>\n",
       "      <th>Самовисування</th>\n",
       "      <td>47</td>\n",
       "    </tr>\n",
       "    <tr>\n",
       "      <th>Слуга народу</th>\n",
       "      <td>264</td>\n",
       "    </tr>\n",
       "  </tbody>\n",
       "</table>\n",
       "</div>"
      ],
      "text/plain": [
       "                                 Особа\n",
       "Партія                                \n",
       "ЄС                                  26\n",
       "Єдиний центр                         1\n",
       "Біла Церква разом                    1\n",
       "ВО «Батьківщина»                    27\n",
       "ВО «Свобода»                         1\n",
       "Голос                               21\n",
       "Об'єднання «Самопоміч»               1\n",
       "Опозиційна платформа — За життя     43\n",
       "Опозиційний блок                     6\n",
       "Порядок                              1\n",
       "Самовисування                       47\n",
       "Слуга народу                       264"
      ]
     },
     "execution_count": 9,
     "metadata": {},
     "output_type": "execute_result"
    }
   ],
   "source": [
    "party_dict.groupby(['Партія'])[['Особа']].nunique()"
   ]
  },
  {
   "cell_type": "code",
   "execution_count": 10,
   "metadata": {},
   "outputs": [
    {
     "data": {
      "text/html": [
       "<div>\n",
       "<style scoped>\n",
       "    .dataframe tbody tr th:only-of-type {\n",
       "        vertical-align: middle;\n",
       "    }\n",
       "\n",
       "    .dataframe tbody tr th {\n",
       "        vertical-align: top;\n",
       "    }\n",
       "\n",
       "    .dataframe thead th {\n",
       "        text-align: right;\n",
       "    }\n",
       "</style>\n",
       "<table border=\"1\" class=\"dataframe\">\n",
       "  <thead>\n",
       "    <tr style=\"text-align: right;\">\n",
       "      <th></th>\n",
       "      <th>full_name</th>\n",
       "    </tr>\n",
       "    <tr>\n",
       "      <th>party</th>\n",
       "      <th></th>\n",
       "    </tr>\n",
       "  </thead>\n",
       "  <tbody>\n",
       "    <tr>\n",
       "      <th>ЄС</th>\n",
       "      <td>26</td>\n",
       "    </tr>\n",
       "    <tr>\n",
       "      <th>Інші</th>\n",
       "      <td>5</td>\n",
       "    </tr>\n",
       "    <tr>\n",
       "      <th>ВО «Батьківщина»</th>\n",
       "      <td>27</td>\n",
       "    </tr>\n",
       "    <tr>\n",
       "      <th>Голос</th>\n",
       "      <td>21</td>\n",
       "    </tr>\n",
       "    <tr>\n",
       "      <th>Опозиційна платформа — За життя</th>\n",
       "      <td>43</td>\n",
       "    </tr>\n",
       "    <tr>\n",
       "      <th>Опозиційний блок</th>\n",
       "      <td>6</td>\n",
       "    </tr>\n",
       "    <tr>\n",
       "      <th>Самовисування</th>\n",
       "      <td>47</td>\n",
       "    </tr>\n",
       "    <tr>\n",
       "      <th>Слуга народу</th>\n",
       "      <td>264</td>\n",
       "    </tr>\n",
       "  </tbody>\n",
       "</table>\n",
       "</div>"
      ],
      "text/plain": [
       "                                 full_name\n",
       "party                                     \n",
       "ЄС                                      26\n",
       "Інші                                     5\n",
       "ВО «Батьківщина»                        27\n",
       "Голос                                   21\n",
       "Опозиційна платформа — За життя         43\n",
       "Опозиційний блок                         6\n",
       "Самовисування                           47\n",
       "Слуга народу                           264"
      ]
     },
     "execution_count": 10,
     "metadata": {},
     "output_type": "execute_result"
    }
   ],
   "source": [
    "party_map = {'ЄС':'ЄС',\n",
    "             'Єдиний центр': 'Інші',\n",
    "             'Біла Церква разом': 'Інші',\n",
    "             'ВО «Батьківщина»': 'ВО «Батьківщина»',\n",
    "             'ВО «Свобода»': 'Інші',\n",
    "             'Голос': 'Голос',\n",
    "             \"Об'єднання «Самопоміч»\": 'Інші',\n",
    "             'Опозиційна платформа\\xa0— За життя': 'Опозиційна платформа — За життя',\n",
    "             'Опозиційний блок':'Опозиційний блок',\n",
    "             'Порядок': 'Інші',\n",
    "             'Самовисування': 'Самовисування',\n",
    "             'Слуга народу': 'Слуга народу',\n",
    "             np.nan : 'Інші'\n",
    "            }\n",
    "\n",
    "def map_party(party):\n",
    "    return party_map[party]\n",
    "\n",
    "party_dict['party'] = party_dict['Партія'].apply(lambda x: map_party(x))\n",
    "party_dict['surname'] = party_dict['Особа'].apply(lambda x: x.split()[0])\n",
    "party_dict = party_dict.rename({'Особа': 'full_name'}, axis=1) \n",
    "party_dict.groupby(['party'])[['full_name']].nunique()"
   ]
  },
  {
   "cell_type": "code",
   "execution_count": 11,
   "metadata": {},
   "outputs": [],
   "source": [
    "def map_parliament_party(parl_df, party_dict=party_dict):\n",
    "    #print(len(set(parl_df.full_name)))\n",
    "    #print(len(set(party_dict.full_name)))\n",
    "\n",
    "    #print(len(set(parl_df.surname)))\n",
    "\n",
    "    print('intersections with political parties')\n",
    "    print(len(set.intersection(set(parl_df.full_name), set(party_dict.full_name))))\n",
    "    \n",
    "    # not many party information matched\n",
    "    # add the info that was matched to the main dataframes\n",
    "    parl_df = parl_df.merge(party_dict[['full_name', 'party']], on='full_name', how='left')\n",
    "    parl_df.party.replace(np.nan, 'Не відомо', inplace=True)\n",
    "    return parl_df"
   ]
  },
  {
   "cell_type": "markdown",
   "metadata": {},
   "source": [
    "## Data set overview"
   ]
  },
  {
   "cell_type": "code",
   "execution_count": 12,
   "metadata": {},
   "outputs": [
    {
     "data": {
      "text/html": [
       "<div>\n",
       "<style scoped>\n",
       "    .dataframe tbody tr th:only-of-type {\n",
       "        vertical-align: middle;\n",
       "    }\n",
       "\n",
       "    .dataframe tbody tr th {\n",
       "        vertical-align: top;\n",
       "    }\n",
       "\n",
       "    .dataframe thead th {\n",
       "        text-align: right;\n",
       "    }\n",
       "</style>\n",
       "<table border=\"1\" class=\"dataframe\">\n",
       "  <thead>\n",
       "    <tr style=\"text-align: right;\">\n",
       "      <th></th>\n",
       "      <th>id</th>\n",
       "      <th>user_declarant_id</th>\n",
       "      <th>created_datetime</th>\n",
       "      <th>index</th>\n",
       "      <th>document_type</th>\n",
       "      <th>year</th>\n",
       "      <th>full_name</th>\n",
       "      <th>office</th>\n",
       "      <th>position</th>\n",
       "      <th>position_type</th>\n",
       "      <th>...</th>\n",
       "      <th>paid</th>\n",
       "      <th>unique_guids_per_user</th>\n",
       "      <th>decl_shortname</th>\n",
       "      <th>surname</th>\n",
       "      <th>decl_info</th>\n",
       "      <th>uni_company_name</th>\n",
       "      <th>counts</th>\n",
       "      <th>rayon</th>\n",
       "      <th>oblast</th>\n",
       "      <th>country</th>\n",
       "    </tr>\n",
       "  </thead>\n",
       "  <tbody>\n",
       "    <tr>\n",
       "      <th>0</th>\n",
       "      <td>nacp_4a9ca6c4-8792-45f0-a09d-3a5767f2415e</td>\n",
       "      <td>1106195.0</td>\n",
       "      <td>2019-03-25 17:02:04</td>\n",
       "      <td>5120403</td>\n",
       "      <td>Щорічна</td>\n",
       "      <td>2019</td>\n",
       "      <td>Рогович Олександра Степанівна</td>\n",
       "      <td>Коломийська ЦРЛ</td>\n",
       "      <td>Начальник відділу кадрів ,депутат Раківчицької...</td>\n",
       "      <td>NaN</td>\n",
       "      <td>...</td>\n",
       "      <td>Оплачувана</td>\n",
       "      <td>1.0</td>\n",
       "      <td>Рогович О. С.</td>\n",
       "      <td>Рогович</td>\n",
       "      <td>Рогович Олександра Степанівна\\nНачальник відді...</td>\n",
       "      <td>КЗ КРР \"КРЦ ПМСД\"</td>\n",
       "      <td>1</td>\n",
       "      <td>Коломийський район</td>\n",
       "      <td>Івано-Франківська область</td>\n",
       "      <td>Україна</td>\n",
       "    </tr>\n",
       "    <tr>\n",
       "      <th>1</th>\n",
       "      <td>nacp_af1d2e52-44f1-4980-88d4-d2c2645a307b</td>\n",
       "      <td>969526.0</td>\n",
       "      <td>2019-03-27 15:39:58</td>\n",
       "      <td>1511346</td>\n",
       "      <td>Щорічна</td>\n",
       "      <td>2019</td>\n",
       "      <td>Дубинська Світлана Василівна</td>\n",
       "      <td>Раківчицька сільськка рада, Будинок культури с...</td>\n",
       "      <td>Депутат сільської ради, директор Будинку культ...</td>\n",
       "      <td>NaN</td>\n",
       "      <td>...</td>\n",
       "      <td>Оплачувана</td>\n",
       "      <td>1.0</td>\n",
       "      <td>Дубинська С. В.</td>\n",
       "      <td>Дубинська</td>\n",
       "      <td>Дубинська Світлана Василівна\\nДепутат сільсько...</td>\n",
       "      <td>Відділ культури Коломийської районної державно...</td>\n",
       "      <td>2</td>\n",
       "      <td>Коломийський район</td>\n",
       "      <td>Івано-Франківська область</td>\n",
       "      <td>Україна</td>\n",
       "    </tr>\n",
       "  </tbody>\n",
       "</table>\n",
       "<p>2 rows × 33 columns</p>\n",
       "</div>"
      ],
      "text/plain": [
       "                                          id  user_declarant_id  \\\n",
       "0  nacp_4a9ca6c4-8792-45f0-a09d-3a5767f2415e          1106195.0   \n",
       "1  nacp_af1d2e52-44f1-4980-88d4-d2c2645a307b           969526.0   \n",
       "\n",
       "     created_datetime    index document_type  year  \\\n",
       "0 2019-03-25 17:02:04  5120403       Щорічна  2019   \n",
       "1 2019-03-27 15:39:58  1511346       Щорічна  2019   \n",
       "\n",
       "                       full_name  \\\n",
       "0  Рогович Олександра Степанівна   \n",
       "1   Дубинська Світлана Василівна   \n",
       "\n",
       "                                              office  \\\n",
       "0                                   Коломийська ЦРЛ    \n",
       "1  Раківчицька сільськка рада, Будинок культури с...   \n",
       "\n",
       "                                            position position_type  ...  \\\n",
       "0  Начальник відділу кадрів ,депутат Раківчицької...           NaN  ...   \n",
       "1  Депутат сільської ради, директор Будинку культ...           NaN  ...   \n",
       "\n",
       "         paid unique_guids_per_user   decl_shortname    surname  \\\n",
       "0  Оплачувана                   1.0    Рогович О. С.    Рогович   \n",
       "1  Оплачувана                   1.0  Дубинська С. В.  Дубинська   \n",
       "\n",
       "                                           decl_info  \\\n",
       "0  Рогович Олександра Степанівна\\nНачальник відді...   \n",
       "1  Дубинська Світлана Василівна\\nДепутат сільсько...   \n",
       "\n",
       "                                    uni_company_name counts  \\\n",
       "0                                  КЗ КРР \"КРЦ ПМСД\"      1   \n",
       "1  Відділ культури Коломийської районної державно...      2   \n",
       "\n",
       "                  rayon                       oblast   country  \n",
       "0   Коломийський район    Івано-Франківська область    Україна  \n",
       "1   Коломийський район    Івано-Франківська область    Україна  \n",
       "\n",
       "[2 rows x 33 columns]"
      ]
     },
     "execution_count": 12,
     "metadata": {},
     "output_type": "execute_result"
    }
   ],
   "source": [
    "cdf.head(2)"
   ]
  },
  {
   "cell_type": "code",
   "execution_count": 13,
   "metadata": {},
   "outputs": [
    {
     "data": {
      "text/plain": [
       "Index(['id', 'user_declarant_id', 'created_datetime', 'index', 'document_type',\n",
       "       'year', 'full_name', 'office', 'position', 'position_type',\n",
       "       'position_category', 'corruptionAffected', 'dnt_organization_group',\n",
       "       'city', 'city_type', 'relation_type', 'person', 'persons', 'company_ua',\n",
       "       'company_id', 'company_name', 'description', 'emitent_citizen', 'paid',\n",
       "       'unique_guids_per_user', 'decl_shortname', 'surname', 'decl_info',\n",
       "       'uni_company_name', 'counts', 'rayon', 'oblast', 'country'],\n",
       "      dtype='object')"
      ]
     },
     "execution_count": 13,
     "metadata": {},
     "output_type": "execute_result"
    }
   ],
   "source": [
    "cdf.columns"
   ]
  },
  {
   "cell_type": "code",
   "execution_count": 81,
   "metadata": {},
   "outputs": [
    {
     "data": {
      "text/html": [
       "<div>\n",
       "<style scoped>\n",
       "    .dataframe tbody tr th:only-of-type {\n",
       "        vertical-align: middle;\n",
       "    }\n",
       "\n",
       "    .dataframe tbody tr th {\n",
       "        vertical-align: top;\n",
       "    }\n",
       "\n",
       "    .dataframe thead th {\n",
       "        text-align: right;\n",
       "    }\n",
       "</style>\n",
       "<table border=\"1\" class=\"dataframe\">\n",
       "  <thead>\n",
       "    <tr style=\"text-align: right;\">\n",
       "      <th></th>\n",
       "      <th>id</th>\n",
       "    </tr>\n",
       "    <tr>\n",
       "      <th>dnt_organization_group</th>\n",
       "      <th></th>\n",
       "    </tr>\n",
       "  </thead>\n",
       "  <tbody>\n",
       "    <tr>\n",
       "      <th>Кабмін, міністерства та підлеглі органи</th>\n",
       "      <td>41357</td>\n",
       "    </tr>\n",
       "    <tr>\n",
       "      <th>Без категорії</th>\n",
       "      <td>13207</td>\n",
       "    </tr>\n",
       "    <tr>\n",
       "      <th>Місцеві адміністрації та ради</th>\n",
       "      <td>9896</td>\n",
       "    </tr>\n",
       "    <tr>\n",
       "      <th>Прокуратура</th>\n",
       "      <td>2442</td>\n",
       "    </tr>\n",
       "    <tr>\n",
       "      <th>Суд</th>\n",
       "      <td>2322</td>\n",
       "    </tr>\n",
       "    <tr>\n",
       "      <th>Інші державні служби, комісії, і т.п.</th>\n",
       "      <td>2000</td>\n",
       "    </tr>\n",
       "    <tr>\n",
       "      <th>Парламент</th>\n",
       "      <td>419</td>\n",
       "    </tr>\n",
       "    <tr>\n",
       "      <th>Пенсійний фонд</th>\n",
       "      <td>277</td>\n",
       "    </tr>\n",
       "    <tr>\n",
       "      <th>НАБУ</th>\n",
       "      <td>97</td>\n",
       "    </tr>\n",
       "    <tr>\n",
       "      <th>НБУ</th>\n",
       "      <td>78</td>\n",
       "    </tr>\n",
       "  </tbody>\n",
       "</table>\n",
       "</div>"
      ],
      "text/plain": [
       "                                            id\n",
       "dnt_organization_group                        \n",
       "Кабмін, міністерства та підлеглі органи  41357\n",
       "Без категорії                            13207\n",
       "Місцеві адміністрації та ради             9896\n",
       "Прокуратура                               2442\n",
       "Суд                                       2322\n",
       "Інші державні служби, комісії, і т.п.     2000\n",
       "Парламент                                  419\n",
       "Пенсійний фонд                             277\n",
       "НАБУ                                        97\n",
       "НБУ                                         78"
      ]
     },
     "execution_count": 81,
     "metadata": {},
     "output_type": "execute_result"
    }
   ],
   "source": [
    "odf.groupby('dnt_organization_group')[['id']].nunique().sort_values(['id'],ascending=False).head(10)"
   ]
  },
  {
   "cell_type": "code",
   "execution_count": 82,
   "metadata": {},
   "outputs": [
    {
     "data": {
      "text/html": [
       "<div>\n",
       "<style scoped>\n",
       "    .dataframe tbody tr th:only-of-type {\n",
       "        vertical-align: middle;\n",
       "    }\n",
       "\n",
       "    .dataframe tbody tr th {\n",
       "        vertical-align: top;\n",
       "    }\n",
       "\n",
       "    .dataframe thead th {\n",
       "        text-align: right;\n",
       "    }\n",
       "</style>\n",
       "<table border=\"1\" class=\"dataframe\">\n",
       "  <thead>\n",
       "    <tr style=\"text-align: right;\">\n",
       "      <th></th>\n",
       "      <th>id</th>\n",
       "    </tr>\n",
       "    <tr>\n",
       "      <th>dnt_organization_group</th>\n",
       "      <th></th>\n",
       "    </tr>\n",
       "  </thead>\n",
       "  <tbody>\n",
       "    <tr>\n",
       "      <th>Місцеві адміністрації та ради</th>\n",
       "      <td>17814</td>\n",
       "    </tr>\n",
       "    <tr>\n",
       "      <th>Без категорії</th>\n",
       "      <td>15729</td>\n",
       "    </tr>\n",
       "    <tr>\n",
       "      <th>Кабмін, міністерства та підлеглі органи</th>\n",
       "      <td>8482</td>\n",
       "    </tr>\n",
       "    <tr>\n",
       "      <th>Суд</th>\n",
       "      <td>2145</td>\n",
       "    </tr>\n",
       "    <tr>\n",
       "      <th>Інші державні служби, комісії, і т.п.</th>\n",
       "      <td>1779</td>\n",
       "    </tr>\n",
       "    <tr>\n",
       "      <th>Прокуратура</th>\n",
       "      <td>677</td>\n",
       "    </tr>\n",
       "    <tr>\n",
       "      <th>Пенсійний фонд</th>\n",
       "      <td>673</td>\n",
       "    </tr>\n",
       "    <tr>\n",
       "      <th>Парламент</th>\n",
       "      <td>426</td>\n",
       "    </tr>\n",
       "    <tr>\n",
       "      <th>НБУ</th>\n",
       "      <td>240</td>\n",
       "    </tr>\n",
       "    <tr>\n",
       "      <th>Фонд державного майна</th>\n",
       "      <td>139</td>\n",
       "    </tr>\n",
       "  </tbody>\n",
       "</table>\n",
       "</div>"
      ],
      "text/plain": [
       "                                            id\n",
       "dnt_organization_group                        \n",
       "Місцеві адміністрації та ради            17814\n",
       "Без категорії                            15729\n",
       "Кабмін, міністерства та підлеглі органи   8482\n",
       "Суд                                       2145\n",
       "Інші державні служби, комісії, і т.п.     1779\n",
       "Прокуратура                                677\n",
       "Пенсійний фонд                             673\n",
       "Парламент                                  426\n",
       "НБУ                                        240\n",
       "Фонд державного майна                      139"
      ]
     },
     "execution_count": 82,
     "metadata": {},
     "output_type": "execute_result"
    }
   ],
   "source": [
    "cdf.groupby('dnt_organization_group')[['id']].nunique().sort_values(['id'],ascending=False).head(10)"
   ]
  },
  {
   "cell_type": "markdown",
   "metadata": {},
   "source": [
    "# Build Network Graphs"
   ]
  },
  {
   "cell_type": "code",
   "execution_count": 16,
   "metadata": {},
   "outputs": [],
   "source": [
    "import networkx as nx\n",
    "from networkx.algorithms import community \n",
    "\n",
    "import matplotlib.pyplot as plt\n",
    "import seaborn as sns\n",
    "\n",
    "from pyvis.network import Network"
   ]
  },
  {
   "cell_type": "markdown",
   "metadata": {},
   "source": [
    "## Functions for graphs creation and viz"
   ]
  },
  {
   "cell_type": "code",
   "execution_count": 17,
   "metadata": {},
   "outputs": [],
   "source": [
    "def draw_graph(networkx_graph,notebook=True,output_filename='graph.html',show_buttons=False,only_physics_buttons=False):\n",
    "        \"\"\"\n",
    "        This function accepts a networkx graph object,\n",
    "        converts it to a pyvis network object preserving its node and edge attributes,\n",
    "        and both returns and saves a dynamic network visualization.\n",
    "        \n",
    "        https://stackoverflow.com/questions/59598019/how-to-plot-large-networks-clearly\n",
    "        \n",
    "        Valid node attributes include:\n",
    "            \"size\", \"value\", \"title\", \"x\", \"y\", \"label\", \"color\".\n",
    "\n",
    "            (For more info: https://pyvis.readthedocs.io/en/latest/documentation.html#pyvis.network.Network.add_node)\n",
    "\n",
    "        Valid edge attributes include:\n",
    "            \"arrowStrikethrough\", \"hidden\", \"physics\", \"title\", \"value\", \"width\"\n",
    "\n",
    "            (For more info: https://pyvis.readthedocs.io/en/latest/documentation.html#pyvis.network.Network.add_edge)\n",
    "\n",
    "\n",
    "        Args:\n",
    "            networkx_graph: The graph to convert and display\n",
    "            notebook: Display in Jupyter?\n",
    "            output_filename: Where to save the converted network\n",
    "            show_buttons: Show buttons in saved version of network?\n",
    "            only_physics_buttons: Show only buttons controlling physics of network?\n",
    "        \"\"\"\n",
    "\n",
    "        # import\n",
    "\n",
    "        # make a pyvis network\n",
    "        pyvis_graph = Network(notebook=notebook)\n",
    "        pyvis_graph.width = '1000px'\n",
    "        # for each node and its attributes in the networkx graph\n",
    "        for node,node_attrs in networkx_graph.nodes(data=True):\n",
    "            pyvis_graph.add_node(node,**node_attrs)\n",
    "    #         print(node,node_attrs)\n",
    "\n",
    "        # for each edge and its attributes in the networkx graph\n",
    "        for source,target,edge_attrs in networkx_graph.edges(data=True):\n",
    "            # if value/width not specified directly, and weight is specified, set 'value' to 'weight'\n",
    "            if not 'value' in edge_attrs and not 'width' in edge_attrs and 'weight' in edge_attrs:\n",
    "                # place at key 'value' the weight of the edge\n",
    "                edge_attrs['value']=edge_attrs['weight']\n",
    "            # add the edge\n",
    "            pyvis_graph.add_edge(source,target,**edge_attrs)\n",
    "\n",
    "        # turn buttons on\n",
    "        if show_buttons:\n",
    "            if only_physics_buttons:\n",
    "                pyvis_graph.show_buttons(filter_=['physics'])\n",
    "            else:\n",
    "                pyvis_graph.show_buttons()\n",
    "\n",
    "        # return and also save\n",
    "        return pyvis_graph.show(output_filename)"
   ]
  },
  {
   "cell_type": "code",
   "execution_count": 18,
   "metadata": {},
   "outputs": [],
   "source": [
    "def plot_degree_dist(G, kind='hist'):\n",
    "    # kind{“hist”, “kde”, “ecdf”}\n",
    "    \n",
    "    degrees = [G.degree(n) for n in G.nodes()]\n",
    "\n",
    "    # seaborn histogram\n",
    "    sns.displot(degrees, \n",
    "                kind=kind, \n",
    "                color = '#ffaaa5'\n",
    "               )\n",
    "    \n",
    "    # Add labels\n",
    "    plt.title('Degree Distribution of the Nodes')\n",
    "    plt.xlabel('Degree')\n",
    "    plt.ylabel('Nodes')"
   ]
  },
  {
   "cell_type": "code",
   "execution_count": 19,
   "metadata": {},
   "outputs": [],
   "source": [
    "def graph_info(g, vis=False):\n",
    "    print(nx.info(g))\n",
    "\n",
    "    density = nx.density(g)\n",
    "    print(\"\\nNetwork density:\", density)\n",
    "    \n",
    "    if vis == True:\n",
    "        plot_degree_dist(g,kind='ecdf')"
   ]
  },
  {
   "cell_type": "code",
   "execution_count": 51,
   "metadata": {},
   "outputs": [],
   "source": [
    "def build_graphs_for_group(group_name, cdf=cdf, odf=odf):\n",
    "    current_group = group_name\n",
    "    #'Прокуратура' #'Парламент' #'Суд' #'Прокуратура'\n",
    "    \n",
    "    print('current group: ', current_group)\n",
    "\n",
    "    print('creating group datfames')\n",
    "    \n",
    "    if group_name == 'all':\n",
    "        group_cdf = cdf\n",
    "        group_odf = odf\n",
    "    else:\n",
    "        group_cdf = cdf.loc[(cdf.dnt_organization_group == current_group)]\n",
    "        group_odf = odf.loc[(odf.dnt_organization_group == current_group)]\n",
    "    \n",
    "    # add political party info\n",
    "    print('add political party info')\n",
    "    group_cdf = map_parliament_party(group_cdf) \n",
    "    group_odf = map_parliament_party(group_odf) \n",
    "    \n",
    "    print('shape of dataframes')\n",
    "    print(group_cdf.shape, group_odf.shape)\n",
    "    \n",
    "    \n",
    "    # companies Graph\n",
    "    print('build companies gaph')\n",
    "\n",
    "    graph_group_cdf = group_cdf[['id','company_id']].copy()\n",
    "    graph_group_cdf.dropna(inplace=True)\n",
    "\n",
    "    tuples_comp_group = [tuple(x) for x in graph_group_cdf.values]\n",
    "    g_comp_group = nx.Graph(tuples_comp_group)\n",
    "\n",
    "    # set node attributes\n",
    "\n",
    "    declarant_nodes = group_cdf[['id','decl_shortname', 'party', 'dnt_organization_group']].drop_duplicates(subset = ['id','decl_shortname', 'party', 'dnt_organization_group'])\n",
    "    declarant_nodes['title'] = 'declarant' \n",
    "    declarant_nodes['color'] = '#a8e6cf'\n",
    "    declarant_nodes.columns = ['id', 'label', 'party', 'dnt_organization_group', 'title', 'color']\n",
    "\n",
    "    comp_nodes = cmap.merge(group_cdf[['company_id']], \n",
    "                            on='company_id', \n",
    "                            how='inner')[['company_id', \n",
    "                                          'uni_company_name']].drop_duplicates(subset = ['company_id', \n",
    "                                                                                     'uni_company_name'])\n",
    "    comp_nodes['party'] = 'Не застосовується'\n",
    "    comp_nodes['dnt_organization_group'] = 'Не застосовується'\n",
    "    comp_nodes['title'] = 'company'\n",
    "    comp_nodes['color'] = '#ff8b94'\n",
    "    comp_nodes.columns = ['id', 'label', 'party', 'dnt_organization_group', 'title', 'color']\n",
    "\n",
    "    nodes = pd.concat([declarant_nodes, comp_nodes])\n",
    "\n",
    "    nx.set_node_attributes(g_comp_group, dict(zip(list(nodes['id']), list(nodes['title']))), 'title')\n",
    "    nx.set_node_attributes(g_comp_group, dict(zip(list(nodes['id']), list(nodes['label']))), 'label')\n",
    "    nx.set_node_attributes(g_comp_group, dict(zip(list(nodes['id']), list(nodes['party']))), 'party')\n",
    "    nx.set_node_attributes(g_comp_group, dict(zip(list(nodes['id']), list(nodes['dnt_organization_group']))), 'dnt_organization_group')\n",
    "    nx.set_node_attributes(g_comp_group, dict(zip(list(nodes['id']), list(nodes['color']))), 'color')\n",
    "\n",
    "    print('\\n\\nBuilt a graph of all ' + current_group + ' people and companies')\n",
    "    graph_info(g_comp_group, vis=False)\n",
    "    \n",
    "\n",
    "    graph_group_odf = group_odf[['id','org_id']].copy()\n",
    "    graph_group_odf.dropna(inplace=True)\n",
    "\n",
    "    tuples_org_group = [tuple(x) for x in graph_group_odf.values]\n",
    "    g_org_group = nx.Graph(tuples_org_group)\n",
    "\n",
    "\n",
    "    # set node attributes\n",
    "    declarant_nodes = group_odf[['id','decl_shortname', 'party', 'dnt_organization_group']].drop_duplicates(subset = ['id','decl_shortname', 'party', 'dnt_organization_group'])\n",
    "    declarant_nodes['title'] = 'declarant' \n",
    "    declarant_nodes['color'] = '#a8e6cf'\n",
    "    declarant_nodes.columns = ['id', 'label', 'party', 'dnt_organization_group', 'title', 'color']\n",
    "\n",
    "    comp_nodes = omap.merge(group_odf[['org_id']], \n",
    "                            on='org_id', \n",
    "                            how='inner')[['org_id', \n",
    "                                          'uni_org_name']].drop_duplicates(subset = ['org_id', \n",
    "                                                                                     'uni_org_name'])\n",
    "    comp_nodes['party'] = 'Не застосовується'\n",
    "    comp_nodes['dnt_organization_group'] = 'Не застосовується'\n",
    "    comp_nodes['title'] = 'organization'\n",
    "    comp_nodes['color'] = '#ffd3b6' \n",
    "    comp_nodes.columns = ['id', 'label', 'party', 'dnt_organization_group', 'title', 'color']\n",
    "\n",
    "    nodes = pd.concat([declarant_nodes, comp_nodes])\n",
    "\n",
    "    nx.set_node_attributes(g_org_group, dict(zip(list(nodes['id']), list(nodes['title']))), 'title')\n",
    "    nx.set_node_attributes(g_org_group, dict(zip(list(nodes['id']), list(nodes['label']))), 'label')\n",
    "    nx.set_node_attributes(g_org_group, dict(zip(list(nodes['id']), list(nodes['party']))), 'party')\n",
    "    nx.set_node_attributes(g_org_group, dict(zip(list(nodes['id']), list(nodes['dnt_organization_group']))), 'dnt_organization_group')\n",
    "    nx.set_node_attributes(g_org_group, dict(zip(list(nodes['id']), list(nodes['color']))), 'color')\n",
    "\n",
    "    print('\\n\\nBuilt a graph of all ' + current_group + ' people and organizations')\n",
    "    graph_info(g_org_group, vis=False)\n",
    "    \n",
    "    # Orgs and companies Graph\n",
    "    g_comp_org_group = nx.compose(g_comp_group, g_org_group)\n",
    "    print('\\n\\nBuilt a composed graph of all ' + current_group + ' people, companies, and organizations')\n",
    "    graph_info(g_comp_org_group, vis=False)\n",
    "\n",
    "    return g_comp_group, g_org_group, g_comp_org_group\n"
   ]
  },
  {
   "cell_type": "code",
   "execution_count": 52,
   "metadata": {},
   "outputs": [],
   "source": [
    "def remove_low_deg_nodes(full_graph):\n",
    "    #g_hideg = nx.Graph()                                                                                                                                     \n",
    "    #hideg_edges = filter(lambda x: full_graph.degree()[x[0]] > 1 and full_graph.degree()[x[1]] > 1, full_graph.edges())\n",
    "    #g_hideg.add_edges_from(hideg_edges)\n",
    "    \n",
    "    degrees = full_graph.degree()    \n",
    "    to_keep = [n for (n, deg) in degrees if deg > 1]\n",
    "    print('Removed nodes with degree 0 or 1 from the graph of people and comapnies')\n",
    "\n",
    "    g_hideg = full_graph.subgraph(to_keep)\n",
    "    graph_info(g_hideg)\n",
    "\n",
    "    \n",
    "    return g_hideg"
   ]
  },
  {
   "cell_type": "code",
   "execution_count": null,
   "metadata": {},
   "outputs": [],
   "source": []
  },
  {
   "cell_type": "code",
   "execution_count": 53,
   "metadata": {},
   "outputs": [
    {
     "name": "stdout",
     "output_type": "stream",
     "text": [
      "33389\n"
     ]
    }
   ],
   "source": [
    "# Create data for graph with companies > 1 owner\n",
    "mask_muli_owners = (cdf['counts'] > 1) # mask over to df that filters companies that apper more than once\n",
    "print(len(cdf[mask_muli_owners]))"
   ]
  },
  {
   "cell_type": "markdown",
   "metadata": {},
   "source": [
    "## General Graphs: people-company, people-organizations, people-compan-organizations"
   ]
  },
  {
   "cell_type": "code",
   "execution_count": 54,
   "metadata": {},
   "outputs": [
    {
     "name": "stdout",
     "output_type": "stream",
     "text": [
      "current group:  all\n",
      "creating group datfames\n",
      "add political party info\n",
      "intersections with political parties\n",
      "234\n",
      "intersections with political parties\n",
      "234\n",
      "shape of dataframes\n",
      "(71789, 34) (95311, 31)\n",
      "build companies gaph\n",
      "\n",
      "\n",
      "Built a graph of all all people and companies\n",
      "Name: \n",
      "Type: Graph\n",
      "Number of nodes: 94798\n",
      "Number of edges: 71789\n",
      "Average degree:   1.5146\n",
      "\n",
      "Network density: 1.5976959375153783e-05\n",
      "\n",
      "\n",
      "Built a graph of all all people and organizations\n",
      "Name: \n",
      "Type: Graph\n",
      "Number of nodes: 89902\n",
      "Number of edges: 93361\n",
      "Average degree:   2.0770\n",
      "\n",
      "Network density: 2.310264020605408e-05\n",
      "\n",
      "\n",
      "Built a composed graph of all all people, companies, and organizations\n",
      "Name: \n",
      "Type: Graph\n",
      "Number of nodes: 176855\n",
      "Number of edges: 165150\n",
      "Average degree:   1.8676\n",
      "\n",
      "Network density: 1.0560302145648425e-05\n"
     ]
    }
   ],
   "source": [
    "group = 'all'\n",
    "all_g_comp, all_g_org, all_g_comp_org = build_graphs_for_group(group, cdf=cdf, odf=odf)"
   ]
  },
  {
   "cell_type": "code",
   "execution_count": 55,
   "metadata": {},
   "outputs": [
    {
     "name": "stdout",
     "output_type": "stream",
     "text": [
      "Removed nodes with degree 0 or 1 from the graph of people and comapnies\n",
      "Name: \n",
      "Type: Graph\n",
      "Number of nodes: 41838\n",
      "Number of edges: 50273\n",
      "Average degree:   2.4032\n",
      "\n",
      "Network density: 5.744250188436327e-05\n"
     ]
    }
   ],
   "source": [
    "all_g_comp_org_hideg = remove_low_deg_nodes(all_g_comp_org)"
   ]
  },
  {
   "cell_type": "code",
   "execution_count": 56,
   "metadata": {},
   "outputs": [],
   "source": [
    "nx.write_gexf(all_g_comp, \"gephi_graphs/all_g_comp.gexf\")\n",
    "nx.write_gexf(all_g_org, \"gephi_graphs/all_g_org.gexf\")\n",
    "nx.write_gexf(all_g_comp_org, \"gephi_graphs/all_g_comp_org.gexf\")\n",
    "nx.write_gexf(all_g_comp_org_hideg, \"gephi_graphs/all_g_comp_org_hideg.gexf\")"
   ]
  },
  {
   "cell_type": "markdown",
   "metadata": {},
   "source": [
    "##  Graphs of filtered groups: people-company, people-organizations, people-compan-organizations"
   ]
  },
  {
   "cell_type": "markdown",
   "metadata": {},
   "source": [
    "## Prosecutors Graphs"
   ]
  },
  {
   "cell_type": "code",
   "execution_count": 57,
   "metadata": {},
   "outputs": [
    {
     "name": "stdout",
     "output_type": "stream",
     "text": [
      "current group:  Прокуратура\n",
      "creating group datfames\n",
      "add political party info\n",
      "intersections with political parties\n",
      "0\n",
      "intersections with political parties\n",
      "0\n",
      "shape of dataframes\n",
      "(895, 34) (2881, 31)\n",
      "build companies gaph\n",
      "\n",
      "\n",
      "Built a graph of all Прокуратура people and companies\n",
      "Name: \n",
      "Type: Graph\n",
      "Number of nodes: 1437\n",
      "Number of edges: 895\n",
      "Average degree:   1.2457\n",
      "\n",
      "Network density: 0.0008674447500692986\n",
      "\n",
      "\n",
      "Built a graph of all Прокуратура people and organizations\n",
      "Name: \n",
      "Type: Graph\n",
      "Number of nodes: 2751\n",
      "Number of edges: 2651\n",
      "Average degree:   1.9273\n",
      "\n",
      "Network density: 0.0007008360596146856\n",
      "\n",
      "\n",
      "Built a composed graph of all Прокуратура people, companies, and organizations\n",
      "Name: \n",
      "Type: Graph\n",
      "Number of nodes: 4003\n",
      "Number of edges: 3546\n",
      "Average degree:   1.7717\n",
      "\n",
      "Network density: 0.00044269646340956427\n"
     ]
    }
   ],
   "source": [
    "group = 'Прокуратура' \n",
    "pros_g_comp, pros_g_org, pros_g_comp_org = build_graphs_for_group(group, cdf=cdf, odf=odf)"
   ]
  },
  {
   "cell_type": "code",
   "execution_count": 58,
   "metadata": {},
   "outputs": [
    {
     "name": "stdout",
     "output_type": "stream",
     "text": [
      "Removed nodes with degree 0 or 1 from the graph of people and comapnies\n",
      "Name: \n",
      "Type: Graph\n",
      "Number of nodes: 587\n",
      "Number of edges: 534\n",
      "Average degree:   1.8194\n",
      "\n",
      "Network density: 0.003104813623968696\n"
     ]
    }
   ],
   "source": [
    "pros_g_comp_org_hideg = remove_low_deg_nodes(pros_g_comp_org)"
   ]
  },
  {
   "cell_type": "code",
   "execution_count": 59,
   "metadata": {},
   "outputs": [
    {
     "name": "stdout",
     "output_type": "stream",
     "text": [
      "Removed nodes with degree 0 or 1 from the graph of people and comapnies\n",
      "Name: \n",
      "Type: Graph\n",
      "Number of nodes: 587\n",
      "Number of edges: 534\n",
      "Average degree:   1.8194\n",
      "\n",
      "Network density: 0.003104813623968696\n"
     ]
    }
   ],
   "source": [
    "pros_g_comp_org_hideg = remove_low_deg_nodes(pros_g_comp_org)"
   ]
  },
  {
   "cell_type": "code",
   "execution_count": 60,
   "metadata": {},
   "outputs": [],
   "source": [
    "nx.write_gexf(pros_g_comp, 'gephi_graphs/' + group + '_g_comp_.gexf')\n",
    "nx.write_gexf(pros_g_org, 'gephi_graphs/' + group + '_g_org.gexf')\n",
    "nx.write_gexf(pros_g_comp_org, 'gephi_graphs/' + group + '_g_comp_org.gexf')\n",
    "nx.write_gexf(pros_g_comp_org_hideg, 'gephi_graphs/' + group + '_g_comp_org_hideg.gexf')\n",
    "\n",
    "#draw_graph(all_g_comp, output_filename='G_comp_colored_' + group + '.html', notebook=False)"
   ]
  },
  {
   "cell_type": "code",
   "execution_count": 61,
   "metadata": {},
   "outputs": [],
   "source": [
    "centralities = nx.eigenvector_centrality_numpy(pros_g_comp_org)"
   ]
  },
  {
   "cell_type": "markdown",
   "metadata": {},
   "source": [
    "## Parliament Graphs"
   ]
  },
  {
   "cell_type": "code",
   "execution_count": 62,
   "metadata": {},
   "outputs": [
    {
     "name": "stdout",
     "output_type": "stream",
     "text": [
      "current group:  Парламент\n",
      "creating group datfames\n",
      "add political party info\n",
      "intersections with political parties\n",
      "222\n",
      "intersections with political parties\n",
      "214\n",
      "shape of dataframes\n",
      "(1987, 34) (759, 31)\n",
      "build companies gaph\n",
      "\n",
      "\n",
      "Built a graph of all Парламент people and companies\n",
      "Name: \n",
      "Type: Graph\n",
      "Number of nodes: 2337\n",
      "Number of edges: 1987\n",
      "Average degree:   1.7005\n",
      "\n",
      "Network density: 0.0007279412195708115\n",
      "\n",
      "\n",
      "Built a graph of all Парламент people and organizations\n",
      "Name: \n",
      "Type: Graph\n",
      "Number of nodes: 999\n",
      "Number of edges: 759\n",
      "Average degree:   1.5195\n",
      "\n",
      "Network density: 0.0015225646488171538\n",
      "\n",
      "\n",
      "Built a composed graph of all Парламент people, companies, and organizations\n",
      "Name: \n",
      "Type: Graph\n",
      "Number of nodes: 3142\n",
      "Number of edges: 2746\n",
      "Average degree:   1.7479\n",
      "\n",
      "Network density: 0.0005564887787259974\n"
     ]
    }
   ],
   "source": [
    "group = 'Парламент'\n",
    "parl_g_comp, parl_g_org, parl_g_comp_org = build_graphs_for_group(group, cdf=cdf, odf=odf)"
   ]
  },
  {
   "cell_type": "code",
   "execution_count": 63,
   "metadata": {},
   "outputs": [
    {
     "name": "stdout",
     "output_type": "stream",
     "text": [
      "Removed nodes with degree 0 or 1 from the graph of people and comapnies\n",
      "Name: \n",
      "Type: Graph\n",
      "Number of nodes: 460\n",
      "Number of edges: 237\n",
      "Average degree:   1.0304\n",
      "\n",
      "Network density: 0.0022449559533958513\n"
     ]
    }
   ],
   "source": [
    "parl_g_comp_org_hideg = remove_low_deg_nodes(parl_g_comp_org)"
   ]
  },
  {
   "cell_type": "code",
   "execution_count": 64,
   "metadata": {},
   "outputs": [],
   "source": [
    "nx.write_gexf(parl_g_comp, 'gephi_graphs/' + group + '_g_comp_.gexf')\n",
    "nx.write_gexf(parl_g_org, 'gephi_graphs/' + group + '_g_org.gexf')\n",
    "nx.write_gexf(parl_g_comp_org, 'gephi_graphs/' + group + '_g_comp_org.gexf')\n",
    "nx.write_gexf(parl_g_comp_org_hideg, 'gephi_graphs/' + group + '_g_comp_org_hideg.gexf')\n",
    "\n",
    "#draw_graph(all_g_comp, output_filename='G_comp_colored_' + group + '.html', notebook=False)"
   ]
  },
  {
   "cell_type": "markdown",
   "metadata": {},
   "source": [
    "## Court Graphs"
   ]
  },
  {
   "cell_type": "code",
   "execution_count": 83,
   "metadata": {},
   "outputs": [
    {
     "name": "stdout",
     "output_type": "stream",
     "text": [
      "current group:  Суд\n",
      "creating group datfames\n",
      "add political party info\n",
      "intersections with political parties\n",
      "0\n",
      "intersections with political parties\n",
      "2\n",
      "shape of dataframes\n",
      "(3092, 34) (2717, 31)\n",
      "build companies gaph\n",
      "\n",
      "\n",
      "Built a graph of all Суд people and companies\n",
      "Name: \n",
      "Type: Graph\n",
      "Number of nodes: 4600\n",
      "Number of edges: 3092\n",
      "Average degree:   1.3443\n",
      "\n",
      "Network density: 0.00029231307373058413\n",
      "\n",
      "\n",
      "Built a graph of all Суд people and organizations\n",
      "Name: \n",
      "Type: Graph\n",
      "Number of nodes: 2956\n",
      "Number of edges: 2717\n",
      "Average degree:   1.8383\n",
      "\n",
      "Network density: 0.000622096444410863\n",
      "\n",
      "\n",
      "Built a composed graph of all Суд people, companies, and organizations\n",
      "Name: \n",
      "Type: Graph\n",
      "Number of nodes: 7184\n",
      "Number of edges: 5809\n",
      "Average degree:   1.6172\n",
      "\n",
      "Network density: 0.00022514338017225156\n"
     ]
    }
   ],
   "source": [
    "group = 'Суд' \n",
    "court_g_comp, court_g_org, court_g_comp_org = build_graphs_for_group(group, cdf=cdf, odf=odf)"
   ]
  },
  {
   "cell_type": "code",
   "execution_count": 84,
   "metadata": {},
   "outputs": [
    {
     "name": "stdout",
     "output_type": "stream",
     "text": [
      "Removed nodes with degree 0 or 1 from the graph of people and comapnies\n",
      "Name: \n",
      "Type: Graph\n",
      "Number of nodes: 1294\n",
      "Number of edges: 1089\n",
      "Average degree:   1.6832\n",
      "\n",
      "Network density: 0.001301742470154954\n"
     ]
    }
   ],
   "source": [
    "court_g_comp_org_hideg = remove_low_deg_nodes(court_g_comp_org)"
   ]
  },
  {
   "cell_type": "code",
   "execution_count": 85,
   "metadata": {},
   "outputs": [],
   "source": [
    "nx.write_gexf(court_g_comp, 'gephi_graphs/' + group + '_g_comp_.gexf')\n",
    "nx.write_gexf(court_g_org, 'gephi_graphs/' + group + '_g_org.gexf')\n",
    "nx.write_gexf(court_g_comp_org, 'gephi_graphs/' + group + '_g_comp_org.gexf')\n",
    "nx.write_gexf(court_g_comp_org_hideg, 'gephi_graphs/' + group + '_g_comp_org_hideg.gexf')\n",
    "\n",
    "#draw_graph(all_g_comp, output_filename='G_comp_colored_' + group + '.html', notebook=False)"
   ]
  },
  {
   "cell_type": "markdown",
   "metadata": {},
   "source": [
    "## KabMin Graphs"
   ]
  },
  {
   "cell_type": "code",
   "execution_count": 134,
   "metadata": {},
   "outputs": [
    {
     "name": "stdout",
     "output_type": "stream",
     "text": [
      "current group:  Кабмін, міністерства та підлеглі органи\n",
      "creating group datfames\n",
      "add political party info\n",
      "intersections with political parties\n",
      "6\n",
      "intersections with political parties\n",
      "19\n",
      "shape of dataframes\n",
      "(10825, 34) (57446, 31)\n",
      "build companies gaph\n",
      "\n",
      "\n",
      "Built a graph of all Кабмін, міністерства та підлеглі органи people and companies\n",
      "Name: \n",
      "Type: Graph\n",
      "Number of nodes: 15816\n",
      "Number of edges: 10825\n",
      "Average degree:   1.3689\n",
      "\n",
      "Network density: 8.65549775628709e-05\n",
      "\n",
      "\n",
      "Built a graph of all Кабмін, міністерства та підлеглі органи people and organizations\n",
      "Name: \n",
      "Type: Graph\n",
      "Number of nodes: 45448\n",
      "Number of edges: 55979\n",
      "Average degree:   2.4634\n",
      "\n",
      "Network density: 5.420447409126454e-05\n",
      "\n",
      "\n",
      "Built a composed graph of all Кабмін, міністерства та підлеглі органи people, companies, and organizations\n",
      "Name: \n",
      "Type: Graph\n",
      "Number of nodes: 59702\n",
      "Number of edges: 66804\n",
      "Average degree:   2.2379\n",
      "\n",
      "Network density: 3.748538513128238e-05\n"
     ]
    }
   ],
   "source": [
    "group = 'Кабмін, міністерства та підлеглі органи' \n",
    "kabm_g_comp, kabm_g_org, kabm_g_comp_org = build_graphs_for_group(group, cdf=cdf, odf=odf)"
   ]
  },
  {
   "cell_type": "code",
   "execution_count": 135,
   "metadata": {},
   "outputs": [
    {
     "name": "stdout",
     "output_type": "stream",
     "text": [
      "Removed nodes with degree 0 or 1 from the graph of people and comapnies\n",
      "Name: \n",
      "Type: Graph\n",
      "Number of nodes: 15146\n",
      "Number of edges: 26771\n",
      "Average degree:   3.5351\n",
      "\n",
      "Network density: 0.000233414246377626\n"
     ]
    }
   ],
   "source": [
    "kabm_g_comp_org_hideg = remove_low_deg_nodes(kabm_g_comp_org)"
   ]
  },
  {
   "cell_type": "code",
   "execution_count": 136,
   "metadata": {},
   "outputs": [],
   "source": [
    "nx.write_gexf(kabm_g_comp, 'gephi_graphs/' + group + '_g_comp_.gexf')\n",
    "nx.write_gexf(kabm_g_org, 'gephi_graphs/' + group + '_g_org.gexf')\n",
    "nx.write_gexf(kabm_g_comp_org, 'gephi_graphs/' + group + '_g_comp_org.gexf')\n",
    "nx.write_gexf(kabm_g_comp_org_hideg, 'gephi_graphs/' + group + '_g_comp_org_hideg.gexf')\n",
    "\n",
    "#draw_graph(all_g_comp, output_filename='G_comp_colored_' + group + '.html', notebook=False)"
   ]
  },
  {
   "cell_type": "markdown",
   "metadata": {},
   "source": [
    "## Other Services Graphs"
   ]
  },
  {
   "cell_type": "code",
   "execution_count": 144,
   "metadata": {},
   "outputs": [
    {
     "name": "stdout",
     "output_type": "stream",
     "text": [
      "current group:  Інші державні служби, комісії, і т.п.\n",
      "creating group datfames\n",
      "add political party info\n",
      "intersections with political parties\n",
      "1\n",
      "intersections with political parties\n",
      "0\n",
      "shape of dataframes\n",
      "(2286, 34) (2233, 31)\n",
      "build companies gaph\n",
      "\n",
      "\n",
      "Built a graph of all Інші державні служби, комісії, і т.п. people and companies\n",
      "Name: \n",
      "Type: Graph\n",
      "Number of nodes: 3429\n",
      "Number of edges: 2286\n",
      "Average degree:   1.3333\n",
      "\n",
      "Network density: 0.00038895371450797355\n",
      "\n",
      "\n",
      "Built a graph of all Інші державні служби, комісії, і т.п. people and organizations\n",
      "Name: \n",
      "Type: Graph\n",
      "Number of nodes: 2487\n",
      "Number of edges: 2233\n",
      "Average degree:   1.7957\n",
      "\n",
      "Network density: 0.0007223402400446926\n",
      "\n",
      "\n",
      "Built a composed graph of all Інші державні служби, комісії, і т.п. people, companies, and organizations\n",
      "Name: \n",
      "Type: Graph\n",
      "Number of nodes: 5735\n",
      "Number of edges: 4519\n",
      "Average degree:   1.5759\n",
      "\n",
      "Network density: 0.0002748408140129283\n",
      "Removed nodes with degree 0 or 1 from the graph of people and comapnies\n",
      "Name: \n",
      "Type: Graph\n",
      "Number of nodes: 939\n",
      "Number of edges: 699\n",
      "Average degree:   1.4888\n",
      "\n",
      "Network density: 0.0015872258969869956\n"
     ]
    }
   ],
   "source": [
    "group = 'Інші державні служби, комісії, і т.п.' \n",
    "other_g_comp, other_g_org, other_g_comp_org = build_graphs_for_group(group, cdf=cdf, odf=odf)\n",
    "other_g_comp_org_hideg = remove_low_deg_nodes(other_g_comp_org)"
   ]
  },
  {
   "cell_type": "code",
   "execution_count": 145,
   "metadata": {},
   "outputs": [],
   "source": [
    "nx.write_gexf(other_g_comp, 'gephi_graphs/' + group + '_g_comp_.gexf')\n",
    "nx.write_gexf(other_g_org, 'gephi_graphs/' + group + '_g_org.gexf')\n",
    "nx.write_gexf(other_g_comp_org, 'gephi_graphs/' + group + '_g_comp_org.gexf')\n",
    "nx.write_gexf(other_g_comp_org_hideg, 'gephi_graphs/' + group + '_g_comp_org_hideg.gexf')\n",
    "\n",
    "#draw_graph(all_g_comp, output_filename='G_comp_colored_' + group + '.html', notebook=False)"
   ]
  },
  {
   "cell_type": "markdown",
   "metadata": {},
   "source": [
    "## PensFond Graphs"
   ]
  },
  {
   "cell_type": "code",
   "execution_count": 146,
   "metadata": {},
   "outputs": [
    {
     "name": "stdout",
     "output_type": "stream",
     "text": [
      "current group:  Пенсійний фонд\n",
      "creating group datfames\n",
      "add political party info\n",
      "intersections with political parties\n",
      "0\n",
      "intersections with political parties\n",
      "0\n",
      "shape of dataframes\n",
      "(840, 34) (301, 31)\n",
      "build companies gaph\n",
      "\n",
      "\n",
      "Built a graph of all Пенсійний фонд people and companies\n",
      "Name: \n",
      "Type: Graph\n",
      "Number of nodes: 1300\n",
      "Number of edges: 840\n",
      "Average degree:   1.2923\n",
      "\n",
      "Network density: 0.0009948481080120804\n",
      "\n",
      "\n",
      "Built a graph of all Пенсійний фонд people and organizations\n",
      "Name: \n",
      "Type: Graph\n",
      "Number of nodes: 419\n",
      "Number of edges: 301\n",
      "Average degree:   1.4368\n",
      "\n",
      "Network density: 0.003437210948830092\n",
      "\n",
      "\n",
      "Built a composed graph of all Пенсійний фонд people, companies, and organizations\n",
      "Name: \n",
      "Type: Graph\n",
      "Number of nodes: 1696\n",
      "Number of edges: 1141\n",
      "Average degree:   1.3455\n",
      "\n",
      "Network density: 0.0007938164412534091\n",
      "Removed nodes with degree 0 or 1 from the graph of people and comapnies\n",
      "Name: \n",
      "Type: Graph\n",
      "Number of nodes: 238\n",
      "Number of edges: 92\n",
      "Average degree:   0.7731\n",
      "\n",
      "Network density: 0.0032620643193986454\n"
     ]
    }
   ],
   "source": [
    "group = 'Пенсійний фонд' \n",
    "pens_g_comp, pens_g_org, pens_g_comp_org = build_graphs_for_group(group, cdf=cdf, odf=odf)\n",
    "pens_g_comp_org_hideg = remove_low_deg_nodes(pens_g_comp_org)"
   ]
  },
  {
   "cell_type": "code",
   "execution_count": 147,
   "metadata": {},
   "outputs": [],
   "source": [
    "nx.write_gexf(pens_g_comp, 'gephi_graphs/' + group + '_g_comp_.gexf')\n",
    "nx.write_gexf(pens_g_org, 'gephi_graphs/' + group + '_g_org.gexf')\n",
    "nx.write_gexf(pens_g_comp_org, 'gephi_graphs/' + group + '_g_comp_org.gexf')\n",
    "nx.write_gexf(pens_g_comp_org_hideg, 'gephi_graphs/' + group + '_g_comp_org_hideg.gexf')\n",
    "\n",
    "#draw_graph(all_g_comp, output_filename='G_comp_colored_' + group + '.html', notebook=False)"
   ]
  },
  {
   "cell_type": "markdown",
   "metadata": {},
   "source": [
    "## Person-to-Person graphs: Prosecutors and Parliament"
   ]
  },
  {
   "cell_type": "code",
   "execution_count": 41,
   "metadata": {},
   "outputs": [],
   "source": [
    "# TO USE IF WORKING WITH NO SUBSET BUT WITH ALL DATA\n",
    "\n",
    "# final_cdf = cdf.loc[(cdf.dnt_organization_group == 'Парламент') |\n",
    "#                     (cdf.dnt_organization_group == 'Прокуратура') |\n",
    "#                     #(cdf.dnt_organization_group == 'Адміністрація / Секретаріат Президента') |\n",
    "#                     #(cdf.dnt_organization_group == 'Кабмін, міністерства та підлеглі органи') |\n",
    "#                     #(cdf.position.str.lower().str.contains('офіс президента')) |\n",
    "#                     (cdf.office.str.lower().str.contains('президент україни'))][['id',\n",
    "#                                                                            'dnt_organization_group',\n",
    "#                                                                            'full_name',\n",
    "#                                                                            'office',\n",
    "#                                                                            'position',\n",
    "#                                                                            'uni_company_name', \n",
    "#                                                                            'company_id']]\n",
    "\n",
    "# final_odf = odf.loc[(odf.dnt_organization_group == 'Парламент') |\n",
    "#                     (odf.dnt_organization_group == 'Прокуратура') |\n",
    "#                     #(odf.dnt_organization_group == 'Адміністрація / Секретаріат Президента') |\n",
    "#                     #(odf.dnt_organization_group == 'Кабмін, міністерства та підлеглі органи') |\n",
    "#                     #(odf.position.str.lower().str.contains('офіс президента')) |\n",
    "#                     (odf.office.str.lower().str.contains('президент україни'))][['id',\n",
    "#                                                                            'dnt_organization_group',\n",
    "#                                                                            'full_name',\n",
    "#                                                                            'office',\n",
    "#                                                                            'position',\n",
    "#                                                                            'uni_org_name', \n",
    "#                                                                            'org_id']]\n",
    "\n",
    "# # add the info about political party that was matched to the main dataframes\n",
    "# final_cdf = final_cdf.merge(party_dict[['full_name', 'party']], on='full_name', how='left')\n",
    "# final_odf = final_odf.merge(party_dict[['full_name', 'party']], on='full_name', how='left')\n",
    "\n",
    "# final_cdf.party.replace(np.nan, 'Не відомо', inplace=True)\n",
    "# final_odf.party.replace(np.nan, 'Не відомо', inplace=True)\n",
    "\n",
    "# # create a subgraph from the oversll graph with the nodes of g_c_all\n",
    "\n",
    "# id_nodes_people = final_cdf.id + final_odf.id\n",
    "# id_nodes_people = set(id_nodes_people)\n",
    "\n",
    "# print(len(id_nodes_people))\n",
    "\n",
    "# #g_final = g_comp_org_all.subgraph(id_nodes_people).copy()\n",
    "# g_final = g_comp_org_all.subgraph(id_nodes_people).copy()\n",
    "# print(nx.info(g_final))"
   ]
  },
  {
   "cell_type": "code",
   "execution_count": 124,
   "metadata": {},
   "outputs": [],
   "source": [
    "def remove_high_deg_nodes(full_graph):\n",
    "    #g_hideg = nx.Graph()                                                                                                                                     \n",
    "    #hideg_edges = filter(lambda x: full_graph.degree()[x[0]] > 1 and full_graph.degree()[x[1]] > 1, full_graph.edges())\n",
    "    #g_hideg.add_edges_from(hideg_edges)\n",
    "    \n",
    "    titles = nx.get_node_attributes(full_graph, 'title').items()\n",
    "    degrees = full_graph.degree()  \n",
    "    keep_deg_list = [n for (n, deg) in degrees if deg <= 30]\n",
    "    \n",
    "    to_keep_people = [n for (n, t) in titles if t == 'declarant'] # all declarants\n",
    "    to_keep_companies = [n for (n, t) in titles if (t == 'company') and (n in keep_deg_list)]\n",
    "    to_keep_orgs = [n for (n, t) in titles if (t == 'organization') and (n in keep_deg_list)]\n",
    "\n",
    "    to_keep_all = to_keep_people + to_keep_companies + to_keep_orgs\n",
    "    \n",
    "    print('people to keep: ', len(set(to_keep_people)))\n",
    "    g_lowdeg = full_graph.subgraph(to_keep_all)\n",
    "    print('Removed comp and org nods with degree > 30 from the graph')\n",
    "\n",
    "    graph_info(g_lowdeg)\n",
    "\n",
    "    \n",
    "    return g_lowdeg\n",
    "\n",
    "\n",
    "def count_nodes(full_graph, ntype):\n",
    "    i = 0\n",
    "\n",
    "    for d in nx.get_node_attributes(full_graph, 'title').values():\n",
    "        if d==ntype:\n",
    "            i +=1\n",
    "\n",
    "    return i\n",
    "\n",
    "\n",
    "def count_group(full_graph, gr):\n",
    "    i = 0\n",
    "\n",
    "    for d in nx.get_node_attributes(composed_groups_comp_org, 'dnt_organization_group').values():\n",
    "        if d==gr:\n",
    "            i +=1\n",
    "\n",
    "    return i"
   ]
  },
  {
   "cell_type": "code",
   "execution_count": 148,
   "metadata": {},
   "outputs": [],
   "source": [
    "#composed_groups_comp_org = nx.compose(pros_g_comp_org, parl_g_comp_org)\n",
    "#composed_groups_comp_org = nx.compose(court_g_comp_org, parl_g_comp_org)\n",
    "\n",
    "### add groups\n",
    "composed_groups_comp_org = parl_g_comp_org\n",
    "composed_groups_comp_org = nx.compose(composed_groups_comp_org, pros_g_comp_org)\n",
    "composed_groups_comp_org = nx.compose(composed_groups_comp_org, court_g_comp_org)\n",
    "composed_groups_comp_org = nx.compose(composed_groups_comp_org, pens_g_comp_org)\n",
    "composed_groups_comp_org = nx.compose(composed_groups_comp_org, other_g_comp_org)\n",
    "#composed_groups_comp_org = nx.compose(composed_groups_comp_org, kabm_g_comp_org)\n",
    "\n",
    "###"
   ]
  },
  {
   "cell_type": "code",
   "execution_count": 149,
   "metadata": {},
   "outputs": [
    {
     "name": "stdout",
     "output_type": "stream",
     "text": [
      "declarants  12205\n",
      "Name: \n",
      "Type: Graph\n",
      "Number of nodes: 20932\n",
      "Number of edges: 17761\n",
      "Average degree:   1.6970\n",
      "\n",
      "Network density: 8.107681995138532e-05\n"
     ]
    }
   ],
   "source": [
    "print('declarants ', count_declarants(composed_groups_comp_org))\n",
    "graph_info(composed_groups_comp_org)"
   ]
  },
  {
   "cell_type": "code",
   "execution_count": 150,
   "metadata": {},
   "outputs": [
    {
     "name": "stdout",
     "output_type": "stream",
     "text": [
      "people to keep:  12205\n",
      "Removed comp and org nods with degree > 30 from the graph\n",
      "Name: \n",
      "Type: Graph\n",
      "Number of nodes: 20887\n",
      "Number of edges: 11816\n",
      "Average degree:   1.1314\n",
      "\n",
      "Network density: 5.417128499106382e-05\n",
      "declarants  12205\n"
     ]
    }
   ],
   "source": [
    "composed_groups_comp_org = remove_high_deg_nodes(composed_groups_comp_org)\n",
    "print('declarants ', count_declarants(composed_groups_comp_org))"
   ]
  },
  {
   "cell_type": "code",
   "execution_count": 151,
   "metadata": {},
   "outputs": [
    {
     "name": "stdout",
     "output_type": "stream",
     "text": [
      "651\n",
      "2934\n",
      "4095\n",
      "927\n",
      "3598\n",
      "0\n"
     ]
    }
   ],
   "source": [
    "print(count_group(composed_groups_comp_org,'Парламент'))\n",
    "print(count_group(composed_groups_comp_org,'Прокуратура'))\n",
    "print(count_group(composed_groups_comp_org,'Суд'))\n",
    "print(count_group(composed_groups_comp_org,'Пенсійний фонд'))\n",
    "print(count_group(composed_groups_comp_org,'Інші державні служби, комісії, і т.п.'))\n",
    "print(count_group(composed_groups_comp_org,'Кабмін, міністерства та підлеглі органи'))\n"
   ]
  },
  {
   "cell_type": "code",
   "execution_count": 152,
   "metadata": {},
   "outputs": [
    {
     "name": "stdout",
     "output_type": "stream",
     "text": [
      "Name: \n",
      "Type: Graph\n",
      "Number of nodes: 12205\n",
      "Number of edges: 0\n",
      "Average degree:   0.0000\n",
      "\n",
      "Network density: 0\n"
     ]
    }
   ],
   "source": [
    "parent_graph = composed_groups_comp_org\n",
    "\n",
    "titles = nx.get_node_attributes(parent_graph, 'title').items()\n",
    "to_keep = [n for (n, t) in titles if t == 'declarant']\n",
    "\n",
    "people_nodes_graph = parent_graph.subgraph(to_keep)\n",
    "graph_info(people_nodes_graph)"
   ]
  },
  {
   "cell_type": "code",
   "execution_count": 153,
   "metadata": {},
   "outputs": [
    {
     "name": "stdout",
     "output_type": "stream",
     "text": [
      "Built a sub-graph of parliament members and prossecutors\n",
      "Name: \n",
      "Type: Graph\n",
      "Number of nodes: 12205\n",
      "Number of edges: 14847\n",
      "Average degree:   2.4329\n",
      "\n",
      "Network density: 0.0001993557293322006\n"
     ]
    }
   ],
   "source": [
    "final_graph = people_nodes_graph.copy()\n",
    "\n",
    "for node1 in people_nodes_graph.nodes():\n",
    "    for node2 in people_nodes_graph.nodes():\n",
    "        if ((node1 != node2) & (nx.has_path(parent_graph, node1, node2))):\n",
    "            shortest_path_length = nx.shortest_path_length(parent_graph, node1, node2)\n",
    "            if shortest_path_length <= 2:\n",
    "                final_graph.add_edge(node1, node2)\n",
    "                final_graph.edges[node1, node2]['path_length']= shortest_path_length\n",
    "                \n",
    "                \n",
    "print(\"Built a sub-graph of parliament members and prossecutors\")\n",
    "graph_info(final_graph)"
   ]
  },
  {
   "cell_type": "code",
   "execution_count": 154,
   "metadata": {},
   "outputs": [
    {
     "name": "stdout",
     "output_type": "stream",
     "text": [
      "12205\n",
      "12205\n"
     ]
    },
    {
     "data": {
      "text/plain": [
       "12205"
      ]
     },
     "execution_count": 154,
     "metadata": {},
     "output_type": "execute_result"
    }
   ],
   "source": [
    "print(len(list(final_graph.nodes())))\n",
    "\n",
    "print(len(set(list(set(cdf.loc[cdf.id.isin(list(final_graph.nodes()))]['id'])) + \\\n",
    "        list(set(odf.loc[odf.id.isin(list(final_graph.nodes()))]['id']))\n",
    "       )))\n",
    "\n",
    "c_final = cdf.loc[cdf.id.isin(list(final_graph.nodes()))][['id', 'decl_shortname', 'full_name', \n",
    "                                                       'office', 'position', 'position_type',\n",
    "                                                       'position_category', 'corruptionAffected', \n",
    "                                                       'dnt_organization_group', 'city_type',\n",
    "                                                       'city', 'rayon', 'oblast', 'country'\n",
    "                                                      ]]\n",
    "\n",
    "o_final = odf.loc[odf.id.isin(list(final_graph.nodes()))][['id', 'decl_shortname', 'full_name', \n",
    "                                                       'office', 'position', 'position_type',\n",
    "                                                       'position_category', 'corruptionAffected', \n",
    "                                                       'dnt_organization_group', 'city_type',\n",
    "                                                       'city', 'rayon', 'oblast', 'country'\n",
    "                                                      ]]\n",
    "\n",
    "nodes_df_final = c_final.append(o_final, ignore_index=True).drop_duplicates('id')\n",
    "len(list(nodes_df_final.id))"
   ]
  },
  {
   "cell_type": "code",
   "execution_count": 155,
   "metadata": {},
   "outputs": [],
   "source": [
    "nodes_df_final['label'] = 'declarant' \n",
    "nodes_df_final.columns = ['id', 'decl_shortname', 'full_name', \n",
    "                          'office', 'position', 'position_type',\n",
    "                          'position_category', 'corruptionAffected', \n",
    "                          'organization_group', 'city_type',\n",
    "                          'city', 'rayon', 'oblast', 'country', 'label']\n",
    "\n",
    "nodes_df_final.office = nodes_df_final.office.str.lower()\n",
    "nodes_df_final.position = nodes_df_final.position.str.lower()\n",
    "nodes_df_final.position_type = nodes_df_final.position_type.str.lower()\n",
    "nodes_df_final.position_category = nodes_df_final.position_category.str.lower()\n",
    "nodes_df_final.city_type = nodes_df_final.city_type.str.lower()\n",
    "nodes_df_final.city = nodes_df_final.city.str.lower()\n",
    "nodes_df_final.rayon = nodes_df_final.rayon.str.lower()\n",
    "nodes_df_final.oblast = nodes_df_final.oblast.str.lower()\n",
    "nodes_df_final.country = nodes_df_final.country.str.lower()\n",
    "\n",
    "\n",
    "\n",
    "nx.set_node_attributes(final_graph, dict(zip(list(nodes_df_final['id']), list(nodes_df_final['decl_shortname']))), 'decl_shortname')\n",
    "nx.set_node_attributes(final_graph, dict(zip(list(nodes_df_final['id']), list(nodes_df_final['full_name']))), 'full_name')\n",
    "nx.set_node_attributes(final_graph, dict(zip(list(nodes_df_final['id']), list(nodes_df_final['office']))), 'office')\n",
    "nx.set_node_attributes(final_graph, dict(zip(list(nodes_df_final['id']), list(nodes_df_final['position']))), 'position')\n",
    "nx.set_node_attributes(final_graph, dict(zip(list(nodes_df_final['id']), list(nodes_df_final['position_type']))), 'position_type')\n",
    "nx.set_node_attributes(final_graph, dict(zip(list(nodes_df_final['id']), list(nodes_df_final['position_category']))), 'position_category')\n",
    "nx.set_node_attributes(final_graph, dict(zip(list(nodes_df_final['id']), list(nodes_df_final['corruptionAffected']))), 'corruptionAffected')\n",
    "nx.set_node_attributes(final_graph, dict(zip(list(nodes_df_final['id']), list(nodes_df_final['organization_group']))), 'organization_group')\n",
    "nx.set_node_attributes(final_graph, dict(zip(list(nodes_df_final['id']), list(nodes_df_final['city_type']))), 'city_type')\n",
    "nx.set_node_attributes(final_graph, dict(zip(list(nodes_df_final['id']), list(nodes_df_final['city']))), 'city')\n",
    "nx.set_node_attributes(final_graph, dict(zip(list(nodes_df_final['id']), list(nodes_df_final['rayon']))), 'rayon')\n",
    "nx.set_node_attributes(final_graph, dict(zip(list(nodes_df_final['id']), list(nodes_df_final['oblast']))), 'oblast')\n",
    "nx.set_node_attributes(final_graph, dict(zip(list(nodes_df_final['id']), list(nodes_df_final['country']))), 'country')\n",
    "nx.set_node_attributes(final_graph, dict(zip(list(nodes_df_final['id']), list(nodes_df_final['label']))), 'label')"
   ]
  },
  {
   "cell_type": "code",
   "execution_count": 156,
   "metadata": {},
   "outputs": [],
   "source": [
    "# save the final graph to a file\n",
    "nx.write_gexf(final_graph, 'gephi_graphs/Парламент_Прокуратура_Суд_Інше_ПенФонд_30_final_graph.gexf')\n",
    "#nx.write_gexf(final_graph, 'gephi_graphs/Парламент_Суд_final_graph_hideg.gexf')"
   ]
  },
  {
   "cell_type": "code",
   "execution_count": null,
   "metadata": {},
   "outputs": [],
   "source": []
  }
 ],
 "metadata": {
  "kernelspec": {
   "display_name": "Python 3",
   "language": "python",
   "name": "python3"
  },
  "language_info": {
   "codemirror_mode": {
    "name": "ipython",
    "version": 3
   },
   "file_extension": ".py",
   "mimetype": "text/x-python",
   "name": "python",
   "nbconvert_exporter": "python",
   "pygments_lexer": "ipython3",
   "version": "3.9.1"
  }
 },
 "nbformat": 4,
 "nbformat_minor": 4
}
